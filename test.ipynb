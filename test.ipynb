{
 "cells": [
  {
   "cell_type": "code",
   "execution_count": 53,
   "metadata": {},
   "outputs": [],
   "source": [
    "from typing import Tuple, Dict, Optional\n",
    "from ase import Atoms\n",
    "from ase.build import bulk, sort\n",
    "from ase.spacegroup import crystal\n",
    "import numpy as np\n",
    "\n",
    "AVAILABLE_PATTERNS = [\"rocksalt\", \"perovskite\", \"fluorite\"]\n",
    "ANION_ELEMENT = \"O\"\n",
    "\n",
    "\n",
    "def bulk_heo(\n",
    "    pattern: str,\n",
    "    cation_composition: Dict[str, float],\n",
    "    a: float = 5.0,\n",
    "    supercell: Tuple[int, int, int] = (1, 1, 1),\n",
    "    dopant: Optional[str] = None,\n",
    "    dopant_fraction: Optional[float] = None,\n",
    ") -> Atoms:\n",
    "    \"\"\"\n",
    "    Create a bulk crystal structure for HEO materials given a crystal structure\n",
    "    pattern and cation composition.\n",
    "\n",
    "    :param pattern: The type of crystal structure (e.g., 'rocksalt', 'zincblende').\n",
    "    :param cation_composition: A dictionary with cation species as keys and their\n",
    "        stoichiometric coefficients as values.\n",
    "    :param supercell: Optional supercell dimensions as a list of three integers.\n",
    "        If None, a unit cell will be created.\n",
    "    :return: An ASE Atoms object representing the bulk crystal structure.\n",
    "    \"\"\"\n",
    "    # Rescale the cation composition to sum to 1\n",
    "    cation_composition = {\n",
    "        k: round(v / sum(cation_composition.values()), 5)\n",
    "        for k, v in cation_composition.items()\n",
    "    }\n",
    "\n",
    "    if dopant is not None:\n",
    "        if dopant_fraction is None:\n",
    "            raise ValueError(\n",
    "                \"If dopant is provided, dopant_fraction must also be provided.\"\n",
    "            )\n",
    "            \n",
    "        cation_composition = {\n",
    "            k: round(v * (1 - dopant_fraction), 5)\n",
    "            for k, v in cation_composition.items()\n",
    "        }\n",
    "\n",
    "        # Add the dopant to the cation composition\n",
    "        cation_composition[dopant] = dopant_fraction\n",
    "        \n",
    "    # Generate the crystal pattern structure\n",
    "    atoms = generate_base_crystal_pattern(pattern, a)\n",
    "    if supercell is not None:\n",
    "        atoms = atoms.repeat(supercell)\n",
    "\n",
    "    anions_mask = [symbol == ANION_ELEMENT for symbol in atoms.get_chemical_symbols()]\n",
    "    anion_sites = np.where(anions_mask)[0]\n",
    "    cation_sites = np.delete(\n",
    "        np.arange(len(atoms)),\n",
    "        anion_sites,\n",
    "    )\n",
    "    num_cations_sites = len(cation_sites)\n",
    "\n",
    "    for symbol, fraction in cation_composition.items():\n",
    "        if not (num_cations_sites * fraction).is_integer():\n",
    "            raise ValueError(\n",
    "                f\"Cannot create a bulk structure with {supercell} supercell and \"\n",
    "                f\"{symbol} composition of {fraction}. The supercell yields {num_cations_sites} \"\n",
    "                \"cation sites. Try either adjust the composition or use a different supercell.\"\n",
    "            )\n",
    "    # Calculate the new composition for the cations\n",
    "    num_cations = {k: int(v * num_cations_sites) for k, v in cation_composition.items()}\n",
    "    # Create a new list of atoms with the specified cation composition\n",
    "    cation_symbols = np.repeat(\n",
    "        list(cation_composition.keys()),\n",
    "        list(num_cations.values()),\n",
    "    )\n",
    "    cation_symbols = np.random.permutation(cation_symbols)\n",
    "\n",
    "    # Assign the cation symbols to the cation sites\n",
    "    atoms.symbols[cation_sites] = cation_symbols\n",
    "    # Assign the anion symbols to the anion sites\n",
    "    atoms.symbols[anion_sites] = ANION_ELEMENT\n",
    "    atoms = sort(atoms)\n",
    "    return atoms\n",
    "\n",
    "\n",
    "def generate_base_crystal_pattern(pattern: str, a: float = 5.0) -> Atoms:\n",
    "    if pattern == \"rocksalt\":\n",
    "        return bulk(\"MgO\", \"rocksalt\", a=a, cubic=True)\n",
    "    elif pattern == \"perovskite\":\n",
    "        return crystal(\n",
    "            [\"Sr\", \"Ti\", \"O\"],\n",
    "            basis=[(0, 0, 0), (0.5, 0.5, 0.5), (0.5, 0.5, 0)],\n",
    "            spacegroup=221,\n",
    "            cellpar=[a, a, a, 90, 90, 90],\n",
    "        )\n",
    "    elif pattern == \"fluorite\":\n",
    "        return bulk(\"CeO2\", \"fluorite\", a=a, cubic=True)\n",
    "    else:\n",
    "        raise ValueError(\n",
    "            f\"Pattern '{pattern}' is not recognized. Available patterns: {AVAILABLE_PATTERNS}\"\n",
    "        )\n"
   ]
  },
  {
   "cell_type": "code",
   "execution_count": 67,
   "metadata": {},
   "outputs": [],
   "source": [
    "atoms = bulk_heo(\n",
    "    pattern=\"rocksalt\",\n",
    "    cation_composition={\"Ni\": 0.2, \"Mg\": 0.2, \"Cu\": 0.2, \"Zn\": 0.2, \"Co\": 0.2},\n",
    "    a=5.0,\n",
    "    supercell=[5, 5, 5],\n",
    "    dopant='Pt',\n",
    "    dopant_fraction=0.1,\n",
    ")"
   ]
  },
  {
   "cell_type": "code",
   "execution_count": 68,
   "metadata": {},
   "outputs": [],
   "source": [
    "site = atoms.pop(20)"
   ]
  },
  {
   "cell_type": "code",
   "execution_count": 69,
   "metadata": {},
   "outputs": [
    {
     "data": {
      "text/plain": [
       "Atom('Co', [np.float64(7.5), np.float64(2.5), np.float64(10.0)])"
      ]
     },
     "execution_count": 69,
     "metadata": {},
     "output_type": "execute_result"
    }
   ],
   "source": [
    "site"
   ]
  },
  {
   "cell_type": "code",
   "execution_count": 71,
   "metadata": {},
   "outputs": [],
   "source": [
    "atoms.append(site)"
   ]
  },
  {
   "cell_type": "code",
   "execution_count": 72,
   "metadata": {},
   "outputs": [
    {
     "data": {
      "text/plain": [
       "Atoms(symbols='Co90Cu90Mg90Ni90O500Pt50Zn90', pbc=True, cell=[25.0, 25.0, 25.0])"
      ]
     },
     "execution_count": 72,
     "metadata": {},
     "output_type": "execute_result"
    }
   ],
   "source": [
    "atoms"
   ]
  },
  {
   "cell_type": "code",
   "execution_count": 62,
   "metadata": {},
   "outputs": [],
   "source": [
    "from ase.units import kB"
   ]
  },
  {
   "cell_type": "code",
   "execution_count": 63,
   "metadata": {},
   "outputs": [
    {
     "data": {
      "text/plain": [
       "8.617330337217213e-05"
      ]
     },
     "execution_count": 63,
     "metadata": {},
     "output_type": "execute_result"
    }
   ],
   "source": [
    "kB"
   ]
  }
 ],
 "metadata": {
  "kernelspec": {
   "display_name": "heox",
   "language": "python",
   "name": "python3"
  },
  "language_info": {
   "codemirror_mode": {
    "name": "ipython",
    "version": 3
   },
   "file_extension": ".py",
   "mimetype": "text/x-python",
   "name": "python",
   "nbconvert_exporter": "python",
   "pygments_lexer": "ipython3",
   "version": "3.11.11"
  }
 },
 "nbformat": 4,
 "nbformat_minor": 2
}
